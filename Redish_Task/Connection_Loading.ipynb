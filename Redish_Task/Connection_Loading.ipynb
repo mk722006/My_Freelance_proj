{
 "cells": [
  {
   "cell_type": "code",
   "execution_count": 1,
   "metadata": {},
   "outputs": [
    {
     "name": "stdout",
     "output_type": "stream",
     "text": [
      "None\n"
     ]
    },
    {
     "name": "stderr",
     "output_type": "stream",
     "text": [
      "C:\\Users\\mk722\\AppData\\Local\\Temp\\ipykernel_19768\\3170660390.py:26: DeprecationWarning: Redis.hmset() is deprecated. Use Redis.hset() instead.\n",
      "  r.hmset(bicycle_id, data)\n"
     ]
    },
    {
     "name": "stdout",
     "output_type": "stream",
     "text": [
      "Data from Parquet file stored in Redis.\n"
     ]
    }
   ],
   "source": [
    "import pandas as pd\n",
    "import redis\n",
    "\n",
    "# Connect to Redis with authentication\n",
    "r = redis.Redis(host='redis-11078.c305.ap-south-1-1.ec2.cloud.redislabs.com', \n",
    "                port=11078, \n",
    "                db=0, \n",
    "                password='H3EK8ms2ZGDqfPugAbB14cX7N3BvOO9A')\n",
    "\n",
    "# Test the connection by getting the value associated with a key (replace 'your_key' with an actual key)\n",
    "print(r.get('your_key'))\n",
    "\n",
    "\n",
    "# Read data from Parquet file\n",
    "parquet_file_path = \"C:/Users/mk722/Downloads/bicycle_data.parquet\"\n",
    "df = pd.read_parquet(parquet_file_path)\n",
    "\n",
    "# Iterate over rows and set data in Redis\n",
    "for index, row in df.iterrows():\n",
    "    bicycle_id = row['BicycleID']\n",
    "    data = {\n",
    "        'latitude': row['Latitude'],\n",
    "        'longitude': row['Longitude']\n",
    "    }\n",
    "    # Set hash data in Redis with key as bicycle_id\n",
    "    r.hmset(bicycle_id, data)\n",
    "\n",
    "print(\"Data from Parquet file stored in Redis.\")\n"
   ]
  }
 ],
 "metadata": {
  "kernelspec": {
   "display_name": "Python 3",
   "language": "python",
   "name": "python3"
  },
  "language_info": {
   "codemirror_mode": {
    "name": "ipython",
    "version": 3
   },
   "file_extension": ".py",
   "mimetype": "text/x-python",
   "name": "python",
   "nbconvert_exporter": "python",
   "pygments_lexer": "ipython3",
   "version": "3.12.1"
  }
 },
 "nbformat": 4,
 "nbformat_minor": 2
}
